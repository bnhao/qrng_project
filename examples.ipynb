{
 "cells": [
  {
   "cell_type": "markdown",
   "id": "c8679699",
   "metadata": {},
   "source": [
    "## 📓 Quantum Random Number Generator Demo (examples.ipynb)"
   ]
  },
  {
   "cell_type": "code",
   "execution_count": null,
   "id": "86f1f3ca",
   "metadata": {},
   "outputs": [],
   "source": [
    "# Activate the virtual environment first in terminal before running:\n",
    "# source quantum_env/bin/activate\n",
    "\n",
    "# If running for the first time, install dependencies\n",
    "# !pip install qiskit matplotlib scipy"
   ]
  },
  {
   "cell_type": "markdown",
   "id": "c1f298d1",
   "metadata": {},
   "source": [
    "### 🔹 Import QRNG Class"
   ]
  },
  {
   "cell_type": "code",
   "execution_count": null,
   "id": "e22182e9",
   "metadata": {},
   "outputs": [],
   "source": [
    "from qrng_core import QuantumRandomNumberGenerator"
   ]
  },
  {
   "cell_type": "markdown",
   "id": "699c4f6d",
   "metadata": {},
   "source": [
    "### 🔹 Create Instance"
   ]
  },
  {
   "cell_type": "code",
   "execution_count": null,
   "id": "1ccfd585",
   "metadata": {},
   "outputs": [],
   "source": [
    "qrng = QuantumRandomNumberGenerator()"
   ]
  },
  {
   "cell_type": "markdown",
   "id": "f5329df8",
   "metadata": {},
   "source": [
    "### 🔹 Generate Random Bits"
   ]
  },
  {
   "cell_type": "code",
   "execution_count": null,
   "id": "a139686e",
   "metadata": {},
   "outputs": [],
   "source": [
    "random_bits = [qrng.generate_bit() for _ in range(10)]\n",
    "print(\"Random Bits:\", random_bits)"
   ]
  },
  {
   "cell_type": "markdown",
   "id": "c8a88057",
   "metadata": {},
   "source": [
    "### 🔹 Generate a Random Number in a Range"
   ]
  },
  {
   "cell_type": "code",
   "execution_count": null,
   "id": "250b560a",
   "metadata": {},
   "outputs": [],
   "source": [
    "random_number = qrng.generate_number(1, 100)\n",
    "print(\"Random Number (1–100):\", random_number)"
   ]
  },
  {
   "cell_type": "markdown",
   "id": "98bbe160",
   "metadata": {},
   "source": [
    "### 🔹 Run a Statistical Distribution Test"
   ]
  },
  {
   "cell_type": "code",
   "execution_count": null,
   "id": "d23a9f79",
   "metadata": {},
   "outputs": [],
   "source": [
    "qrng.test_randomness()"
   ]
  },
  {
   "cell_type": "markdown",
   "id": "471eb3ce",
   "metadata": {},
   "source": [
    "### 🔹 Compare Quantum RNG vs Classical RNG"
   ]
  },
  {
   "cell_type": "code",
   "execution_count": null,
   "id": "990f0147",
   "metadata": {},
   "outputs": [],
   "source": [
    "from qrng_core import compare_with_classical\n",
    "\n",
    "compare_with_classical(sample_size=1000, num_bits=4)"
   ]
  },
  {
   "cell_type": "markdown",
   "id": "705a52e6",
   "metadata": {},
   "source": [
    "### 🔹 Error Handling Demo"
   ]
  },
  {
   "cell_type": "code",
   "execution_count": null,
   "id": "a6010b74",
   "metadata": {},
   "outputs": [],
   "source": [
    "# This should raise and catch a custom QRNGError\n",
    "bad_result = qrng.generate_number(\"low\", 10)\n",
    "print(\"Error-handled result:\", bad_result)\n",
    "\n",
    "# Another test where min is greater than max\n",
    "bad_range = qrng.generate_number(10, 1)\n",
    "print(\"Bad range result:\", bad_range)"
   ]
  },
  {
   "cell_type": "markdown",
   "id": "3c4461f3",
   "metadata": {},
   "source": [
    "### ✅ Summary"
   ]
  },
  {
   "cell_type": "code",
   "execution_count": null,
   "id": "d6c083de",
   "metadata": {},
   "outputs": [],
   "source": [
    "print(\"Quantum RNG module test complete!\")"
   ]
  }
 ],
 "metadata": {},
 "nbformat": 4,
 "nbformat_minor": 5
}